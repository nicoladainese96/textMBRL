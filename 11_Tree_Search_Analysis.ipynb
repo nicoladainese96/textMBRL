{
 "cells": [
  {
   "cell_type": "markdown",
   "metadata": {},
   "source": [
    "# Tree Search Analysis\n",
    "\n",
    "Given the tree search for a single step, analyse it to have an idea of how it has been grown.\n",
    "\n",
    "Some ideas:\n",
    "- main variables that we have are: visit counts per node, total visit counts (= visit counts of the root node), number of visited children, depth of the node, depth of a branch (e.g. how in depth we explored an action).\n",
    "- tree is asymmetric, thus nodes at similar depth are not explored in a similar way in general.\n",
    "- if the policy is used, the prior at the root node is really important (and so it is the prior after the root noise has been applied).\n",
    "- average branching factor should depend on the prior entropy, the Q values of the actions, the Q values set as default and the visit count of the parent; not on the depth.\n"
   ]
  },
  {
   "cell_type": "markdown",
   "metadata": {},
   "source": [
    "## Imports and variable initialization"
   ]
  },
  {
   "cell_type": "code",
   "execution_count": 1,
   "metadata": {},
   "outputs": [
    {
     "name": "stdout",
     "output_type": "stream",
     "text": [
      "Using device cpu\n",
      "Using device cpu\n"
     ]
    }
   ],
   "source": [
    "import numpy as np\n",
    "import matplotlib.pyplot as plt\n",
    "import torch\n",
    "import torch.nn as nn\n",
    "import torch.optim as optim\n",
    "import torch.nn.functional as F\n",
    "import time\n",
    "import copy\n",
    "# custom imports\n",
    "import utils\n",
    "import train\n",
    "import mcts\n",
    "from rtfm import featurizer as X\n",
    "import os"
   ]
  },
  {
   "cell_type": "code",
   "execution_count": 2,
   "metadata": {},
   "outputs": [],
   "source": [
    "# Check only if main logic of the training loop works\n",
    "ucb_C = 1.0\n",
    "discount = 0.9 # try with smaller discount\n",
    "episode_length = 32\n",
    "max_actions = 20\n",
    "num_simulations = 50\n",
    "device = mcts.device\n",
    "n_episodes = 4000\n",
    "memory_size = 1024\n",
    "batch_size = 32\n",
    "n_steps = 5\n",
    "tau = 0.1 # new_trg_params = (1-tau)*old_trg_params + tau*value_net_params\n",
    "dir_noise = False\n",
    "dirichlet_alpha = 0.5 # no real reason to choose this value, except it's < 1\n",
    "exploration_fraction = 0.25\n",
    "temperature = 1.\n",
    "full_cross_entropy = True\n",
    "entropy_bonus = True\n",
    "entropy_weight = 1e-2\n",
    "        \n",
    "training_params = dict(\n",
    "    ucb_C = ucb_C,\n",
    "    discount = discount,\n",
    "    episode_length = episode_length,\n",
    "    max_actions = max_actions,\n",
    "    num_simulations = num_simulations,\n",
    "    device = device,\n",
    "    n_episodes = n_episodes,\n",
    "    memory_size = memory_size,\n",
    "    batch_size = batch_size,\n",
    "    n_steps = n_steps,\n",
    "    tau = tau,\n",
    "    dir_noise = dir_noise,\n",
    "    dirichlet_alpha = dirichlet_alpha,\n",
    "    exploration_fraction = exploration_fraction,\n",
    "    temperature = temperature,\n",
    "    full_cross_entropy=full_cross_entropy,\n",
    "    entropy_bonus=entropy_bonus,\n",
    "    entropy_weight=entropy_weight\n",
    ")"
   ]
  },
  {
   "cell_type": "code",
   "execution_count": 3,
   "metadata": {},
   "outputs": [],
   "source": [
    "flags = utils.Flags(env=\"rtfm:groups_simple_stationary-v0\")\n",
    "gym_env = utils.create_env(flags)\n",
    "featurizer = X.Render()\n",
    "game_simulator = mcts.FullTrueSimulator(gym_env, featurizer)\n",
    "object_ids = utils.get_object_ids_dict(game_simulator)\n",
    "\n",
    "pv_net = mcts.DiscreteSupportPVNet_v3(gym_env).to(device)"
   ]
  },
  {
   "cell_type": "code",
   "execution_count": 57,
   "metadata": {},
   "outputs": [],
   "source": [
    "# If enabled, use a trained network\n",
    "load = True\n",
    "load_dir=\"./save_dir\"\n",
    "ID=\"BAA\"\n",
    "checkpoint=6000\n",
    "if load:\n",
    "    d = torch.load(\"%s/%s/training_dict_%s\"%(load_dir, ID, checkpoint), map_location=torch.device('cpu'))\n",
    "    pv_net = d[\"pv_net\"]"
   ]
  },
  {
   "cell_type": "markdown",
   "metadata": {},
   "source": [
    "## New code"
   ]
  },
  {
   "cell_type": "code",
   "execution_count": 4,
   "metadata": {},
   "outputs": [],
   "source": [
    "# Take root node, loop over children, save in an array \n",
    "# (depth, prior, parent visit counts, node visit counts, value, Q_value, number of children)\n",
    "# do this recursively for every child "
   ]
  },
  {
   "cell_type": "code",
   "execution_count": 5,
   "metadata": {},
   "outputs": [],
   "source": [
    "def analyse_tree(tree):\n",
    "    \"\"\"\n",
    "    tree: instance of PolicyValueMCTS\n",
    "    \"\"\"\n",
    "    pass"
   ]
  },
  {
   "cell_type": "code",
   "execution_count": 90,
   "metadata": {},
   "outputs": [],
   "source": [
    "def analyse_node(node, discount, nodes_stats=[], parent_depth=0, global_count=0):\n",
    "    \"\"\"\n",
    "    node: instance of PriorValueNode\n",
    "    \"\"\" \n",
    "    print(\"len(nodes_stats): \", len(nodes_stats))\n",
    "    depth = parent_depth + 1\n",
    "    dprint = lambda *args, **kwargs: print(\"-\"*depth, *args, **kwargs)\n",
    "    parent_visit_count = node.visit_count\n",
    "    for action, child in node.children.items():\n",
    "        if child.visit_count > 0:\n",
    "            print()\n",
    "            dprint(\"depth: \", depth)\n",
    "            dprint(\"parent_visit_count: \", parent_visit_count)\n",
    "            dprint(\"child.visit_count: \", child.visit_count)\n",
    "            prior = child.prior\n",
    "            dprint(\"prior: \", prior)\n",
    "            value = child.value()\n",
    "            dprint(\"value: \", value)\n",
    "            Qvalue = child.reward + discount*child.value()\n",
    "            dprint(\"Qvalue: \", Qvalue)\n",
    "            num_visited_children = (np.array(list([c.visit_count \n",
    "                                                   for a,c in child.children.items()])) > 0).sum()\n",
    "            dprint(\"num_visited_children: \", num_visited_children)\n",
    "            nodes_stats.append((depth, parent_visit_count, prior, child.visit_count, value, Qvalue, num_visited_children))\n",
    "            global_count +=1\n",
    "            dprint(\"Global count of node stats collected: \", global_count)\n",
    "            if num_visited_children > 0:\n",
    "                dprint(\"Recursively calling analyse_node on this child...\\n\")\n",
    "                nodes_stats, global_count = analyse_node(child, discount, nodes_stats, depth, global_count)\n",
    "            \n",
    "        else:\n",
    "            continue\n",
    "\n",
    "    return nodes_stats, global_count"
   ]
  },
  {
   "cell_type": "code",
   "execution_count": 7,
   "metadata": {},
   "outputs": [],
   "source": [
    "def get_array_ith_entry(nodes_stats, i):\n",
    "    ith_stat = np.array([s[i] for s in nodes_stats])\n",
    "    return ith_stat"
   ]
  },
  {
   "cell_type": "markdown",
   "metadata": {},
   "source": [
    "## Testing"
   ]
  },
  {
   "cell_type": "code",
   "execution_count": 8,
   "metadata": {},
   "outputs": [],
   "source": [
    "from play_functions import show_policy_summary"
   ]
  },
  {
   "cell_type": "code",
   "execution_count": 9,
   "metadata": {},
   "outputs": [],
   "source": [
    "env = game_simulator\n",
    "mode=\"predict\"\n",
    "render = True\n",
    "debug_render = False"
   ]
  },
  {
   "cell_type": "code",
   "execution_count": 77,
   "metadata": {},
   "outputs": [
    {
     "name": "stdout",
     "output_type": "stream",
     "text": [
      "\n",
      "██████\n",
      "█   y█\n",
      "█    █\n",
      "█  n █\n",
      "█? !@█\n",
      "██████\n",
      "\n",
      "Action  Stay : Prior=0.001 - Q-value=0.000 - Visit counts=0\n",
      "Action  Up : Prior=0.999 - Q-value=0.505 - Visit counts=50\n",
      "Action  Left : Prior=0.000 - Q-value=0.000 - Visit counts=0\n",
      "Action with best prior:  1 (Up)\n",
      "Action selected from MCTS:  1 (Up)\n",
      "Best actions:  [1] ['Up']\n",
      "\n",
      "██████\n",
      "█   y█\n",
      "█    █\n",
      "█  n@█\n",
      "█? ! █\n",
      "██████\n",
      "\n",
      "Reward received:  0\n",
      "Done:  False\n"
     ]
    }
   ],
   "source": [
    "action_dict = {\n",
    "    0:\"Stay\",\n",
    "    1:\"Up\",\n",
    "    2:\"Down\",\n",
    "    3:\"Left\",\n",
    "    4:\"Right\"\n",
    "}\n",
    "frame, valid_actions = env.reset()\n",
    "if render:\n",
    "    env.render()\n",
    "total_reward = 0\n",
    "done = False\n",
    "new_root = None\n",
    "# variables used for training of value net\n",
    "frame_lst = [frame]\n",
    "reward_lst = []\n",
    "done_lst = []\n",
    "action_is_optimal = []\n",
    "if render:\n",
    "    prior_is_optimal = []\n",
    "for i in range(episode_length):\n",
    "    tree = mcts.PolicyValueMCTS(\n",
    "                         frame, \n",
    "                         env, \n",
    "                         valid_actions, \n",
    "                         ucb_C, \n",
    "                         discount, \n",
    "                         max_actions, \n",
    "                         pv_net,\n",
    "                         render=debug_render, \n",
    "                         root=new_root\n",
    "                         )\n",
    "    #print(\"Performing MCTS step\")\n",
    "    root, info = tree.run(num_simulations, mode=mode, dir_noise=dir_noise)\n",
    "    #show_root_summary(root, discount)\n",
    "    #print(\"Tree info: \", info)\n",
    "    action = root.best_action(discount)\n",
    "    best_actions = utils.get_optimal_actions(frame, object_ids)\n",
    "    if render:\n",
    "        #print(\"probs from MCTS: \", probs)\n",
    "        best_prior = show_policy_summary(pv_net, frame, root, discount, action, best_actions)\n",
    "\n",
    "        if best_prior in best_actions:\n",
    "            prior_is_optimal.append(True)\n",
    "        else:\n",
    "            prior_is_optimal.append(False)\n",
    "\n",
    "    # Evaluate chosen action against optimal policy\n",
    "    if action in best_actions:\n",
    "        action_is_optimal.append(True)\n",
    "    else:\n",
    "        action_is_optimal.append(False)\n",
    "\n",
    "    new_root = tree.get_subtree(action)\n",
    "    frame, valid_actions, reward, done = env.step(action)\n",
    "\n",
    "    frame_lst.append(frame)\n",
    "    reward_lst.append(reward)\n",
    "    done_lst.append(done)\n",
    "\n",
    "    if render:\n",
    "        env.render()\n",
    "        print(\"Reward received: \", reward)\n",
    "        print(\"Done: \", done)\n",
    "    total_reward += reward\n",
    "    if done:\n",
    "        break\n",
    "\n",
    "    break # while developing, just do a single step"
   ]
  },
  {
   "cell_type": "code",
   "execution_count": 78,
   "metadata": {},
   "outputs": [
    {
     "data": {
      "text/plain": [
       "<mcts.PolicyValueMCTS at 0x7f1a8441ba10>"
      ]
     },
     "execution_count": 78,
     "metadata": {},
     "output_type": "execute_result"
    }
   ],
   "source": [
    "tree"
   ]
  },
  {
   "cell_type": "code",
   "execution_count": 79,
   "metadata": {},
   "outputs": [
    {
     "data": {
      "text/plain": [
       "<mcts.PriorValueNode at 0x7f1a812b4a10>"
      ]
     },
     "execution_count": 79,
     "metadata": {},
     "output_type": "execute_result"
    }
   ],
   "source": [
    "new_root"
   ]
  },
  {
   "cell_type": "code",
   "execution_count": 80,
   "metadata": {},
   "outputs": [
    {
     "data": {
      "text/plain": [
       "<mcts.PriorValueNode at 0x7f1a84383950>"
      ]
     },
     "execution_count": 80,
     "metadata": {},
     "output_type": "execute_result"
    }
   ],
   "source": [
    "root"
   ]
  },
  {
   "cell_type": "code",
   "execution_count": 81,
   "metadata": {},
   "outputs": [],
   "source": [
    "# Take root node, loop over children, save in an array \n",
    "# (depth, parent visit counts, prior, node visit counts, value, Q_value, number of children)\n",
    "# do this recursively for every child "
   ]
  },
  {
   "cell_type": "code",
   "execution_count": 91,
   "metadata": {
    "scrolled": true
   },
   "outputs": [
    {
     "name": "stdout",
     "output_type": "stream",
     "text": [
      "len(nodes_stats):  0\n",
      "\n",
      "- depth:  1\n",
      "- parent_visit_count:  51\n",
      "- child.visit_count:  50\n",
      "- prior:  0.9988416\n",
      "- value:  0.5609589501079677\n",
      "- Qvalue:  0.504863055097171\n",
      "- num_visited_children:  2\n",
      "- Global count of node stats collected:  1\n",
      "- Recursively calling analyse_node on this child...\n",
      "\n",
      "len(nodes_stats):  1\n",
      "\n",
      "-- depth:  2\n",
      "-- parent_visit_count:  50\n",
      "-- child.visit_count:  1\n",
      "-- prior:  0.008183049\n",
      "-- value:  0.5088480114936829\n",
      "-- Qvalue:  0.4579632103443146\n",
      "-- num_visited_children:  0\n",
      "-- Global count of node stats collected:  2\n",
      "\n",
      "-- depth:  2\n",
      "-- parent_visit_count:  50\n",
      "-- child.visit_count:  48\n",
      "-- prior:  0.99116755\n",
      "-- value:  0.6268781547120457\n",
      "-- Qvalue:  0.5641903392408412\n",
      "-- num_visited_children:  2\n",
      "-- Global count of node stats collected:  3\n",
      "-- Recursively calling analyse_node on this child...\n",
      "\n",
      "len(nodes_stats):  3\n",
      "\n",
      "--- depth:  3\n",
      "--- parent_visit_count:  48\n",
      "--- child.visit_count:  46\n",
      "--- prior:  0.9965224\n",
      "--- value:  0.7011602946377313\n",
      "--- Qvalue:  0.6310442651739582\n",
      "--- num_visited_children:  2\n",
      "--- Global count of node stats collected:  4\n",
      "--- Recursively calling analyse_node on this child...\n",
      "\n",
      "len(nodes_stats):  4\n",
      "\n",
      "---- depth:  4\n",
      "---- parent_visit_count:  46\n",
      "---- child.visit_count:  7\n",
      "---- prior:  0.38712606\n",
      "---- value:  0.6575375039236887\n",
      "---- Qvalue:  0.5917837535313198\n",
      "---- num_visited_children:  2\n",
      "---- Global count of node stats collected:  5\n",
      "---- Recursively calling analyse_node on this child...\n",
      "\n",
      "len(nodes_stats):  5\n",
      "\n",
      "----- depth:  5\n",
      "----- parent_visit_count:  7\n",
      "----- child.visit_count:  3\n",
      "----- prior:  0.5629882\n",
      "----- value:  0.7785720864931743\n",
      "----- Qvalue:  0.7007148778438569\n",
      "----- num_visited_children:  2\n",
      "----- Global count of node stats collected:  6\n",
      "----- Recursively calling analyse_node on this child...\n",
      "\n",
      "len(nodes_stats):  6\n",
      "\n",
      "------ depth:  6\n",
      "------ parent_visit_count:  3\n",
      "------ child.visit_count:  1\n",
      "------ prior:  0.037264917\n",
      "------ value:  0.8066372871398926\n",
      "------ Qvalue:  0.7259735584259034\n",
      "------ num_visited_children:  0\n",
      "------ Global count of node stats collected:  7\n",
      "\n",
      "------ depth:  6\n",
      "------ parent_visit_count:  3\n",
      "------ child.visit_count:  1\n",
      "------ prior:  0.9390451\n",
      "------ value:  0.8923393487930298\n",
      "------ Qvalue:  0.8031054139137268\n",
      "------ num_visited_children:  0\n",
      "------ Global count of node stats collected:  8\n",
      "\n",
      "----- depth:  5\n",
      "----- parent_visit_count:  7\n",
      "----- child.visit_count:  3\n",
      "----- prior:  0.049885757\n",
      "----- value:  0.6753657380739848\n",
      "----- Qvalue:  0.6078291642665864\n",
      "----- num_visited_children:  2\n",
      "----- Global count of node stats collected:  9\n",
      "----- Recursively calling analyse_node on this child...\n",
      "\n",
      "len(nodes_stats):  9\n",
      "\n",
      "------ depth:  6\n",
      "------ parent_visit_count:  3\n",
      "------ child.visit_count:  1\n",
      "------ prior:  0.93235296\n",
      "------ value:  0.7069447636604309\n",
      "------ Qvalue:  0.6362502872943878\n",
      "------ num_visited_children:  0\n",
      "------ Global count of node stats collected:  10\n",
      "\n",
      "------ depth:  6\n",
      "------ parent_visit_count:  3\n",
      "------ child.visit_count:  1\n",
      "------ prior:  0.008938893\n",
      "------ value:  0.6887345910072327\n",
      "------ Qvalue:  0.6198611319065094\n",
      "------ num_visited_children:  0\n",
      "------ Global count of node stats collected:  11\n",
      "\n",
      "---- depth:  4\n",
      "---- parent_visit_count:  46\n",
      "---- child.visit_count:  38\n",
      "---- prior:  0.5629882\n",
      "---- value:  0.8021566338445008\n",
      "---- Qvalue:  0.7219409704600507\n",
      "---- num_visited_children:  2\n",
      "---- Global count of node stats collected:  12\n",
      "---- Recursively calling analyse_node on this child...\n",
      "\n",
      "len(nodes_stats):  12\n",
      "\n",
      "----- depth:  5\n",
      "----- parent_visit_count:  38\n",
      "----- child.visit_count:  1\n",
      "----- prior:  0.0006977212\n",
      "----- value:  0.677130401134491\n",
      "----- Qvalue:  0.6094173610210419\n",
      "----- num_visited_children:  0\n",
      "----- Global count of node stats collected:  13\n",
      "\n",
      "----- depth:  5\n",
      "----- parent_visit_count:  38\n",
      "----- child.visit_count:  36\n",
      "----- prior:  0.9390451\n",
      "----- value:  0.8970955999361139\n",
      "----- Qvalue:  0.8073860399425025\n",
      "----- num_visited_children:  2\n",
      "----- Global count of node stats collected:  14\n",
      "----- Recursively calling analyse_node on this child...\n",
      "\n",
      "len(nodes_stats):  14\n",
      "\n",
      "------ depth:  6\n",
      "------ parent_visit_count:  36\n",
      "------ child.visit_count:  1\n",
      "------ prior:  0.0010741279\n",
      "------ value:  0.8923393487930298\n",
      "------ Qvalue:  0.8031054139137268\n",
      "------ num_visited_children:  0\n",
      "------ Global count of node stats collected:  15\n",
      "\n",
      "------ depth:  6\n",
      "------ parent_visit_count:  36\n",
      "------ child.visit_count:  34\n",
      "------ prior:  0.9985322\n",
      "------ value:  0.9999998965684105\n",
      "------ Qvalue:  0.8999999069115695\n",
      "------ num_visited_children:  1\n",
      "------ Global count of node stats collected:  16\n",
      "------ Recursively calling analyse_node on this child...\n",
      "\n",
      "len(nodes_stats):  16\n",
      "\n",
      "------- depth:  7\n",
      "------- parent_visit_count:  34\n",
      "------- child.visit_count:  33\n",
      "------- prior:  0.99995124\n",
      "------- value:  0.0\n",
      "------- Qvalue:  1.0\n",
      "------- num_visited_children:  0\n",
      "------- Global count of node stats collected:  17\n",
      "\n",
      "--- depth:  3\n",
      "--- parent_visit_count:  48\n",
      "--- child.visit_count:  1\n",
      "--- prior:  0.0009624219\n",
      "--- value:  0.5524858236312866\n",
      "--- Qvalue:  0.497237241268158\n",
      "--- num_visited_children:  0\n",
      "--- Global count of node stats collected:  18\n"
     ]
    }
   ],
   "source": [
    "nodes_stats, global_count = analyse_node(root, discount)"
   ]
  },
  {
   "cell_type": "code",
   "execution_count": 87,
   "metadata": {},
   "outputs": [],
   "source": [
    "#assert len(nodes_stats) == global_count, \"Mismatch in node stats\""
   ]
  },
  {
   "cell_type": "code",
   "execution_count": 92,
   "metadata": {},
   "outputs": [
    {
     "data": {
      "text/plain": [
       "18"
      ]
     },
     "execution_count": 92,
     "metadata": {},
     "output_type": "execute_result"
    }
   ],
   "source": [
    "len(nodes_stats)"
   ]
  },
  {
   "cell_type": "code",
   "execution_count": 93,
   "metadata": {},
   "outputs": [
    {
     "data": {
      "text/plain": [
       "18"
      ]
     },
     "execution_count": 93,
     "metadata": {},
     "output_type": "execute_result"
    }
   ],
   "source": [
    "global_count"
   ]
  },
  {
   "cell_type": "code",
   "execution_count": 94,
   "metadata": {},
   "outputs": [],
   "source": [
    "depths = get_array_ith_entry(nodes_stats, 0)\n",
    "parent_visit_counts = get_array_ith_entry(nodes_stats, 1)\n",
    "priors = get_array_ith_entry(nodes_stats, 2)\n",
    "visit_counts = get_array_ith_entry(nodes_stats, 3)\n",
    "values = get_array_ith_entry(nodes_stats, 4)\n",
    "Qvalues = get_array_ith_entry(nodes_stats, 5)\n",
    "num_visited_children = get_array_ith_entry(nodes_stats, 6)"
   ]
  },
  {
   "cell_type": "code",
   "execution_count": 95,
   "metadata": {},
   "outputs": [
    {
     "data": {
      "image/png": "[encoded data removed]",
      "text/plain": [
       "<Figure size 864x720 with 1 Axes>"
      ]
     },
     "metadata": {
      "needs_background": "light"
     },
     "output_type": "display_data"
    }
   ],
   "source": [
    "# depths histogram -> do this for different priors and for different total visit counts \n",
    "#(they are cached when multiple steps are done)\n",
    "plt.figure(figsize=(12,10))\n",
    "plt.hist(depths, bins = np.arange(0, depths.max()+1)+0.5, rwidth=0.8)\n",
    "plt.xlabel(\"Depth\", fontsize=16)\n",
    "plt.ylabel(\"Counts\", fontsize=16)\n",
    "plt.title(\"Distribution of depth in the tree\\n(Total visit counts = %d)\"%global_count, fontsize=16)\n",
    "plt.show()"
   ]
  },
  {
   "cell_type": "code",
   "execution_count": null,
   "metadata": {},
   "outputs": [],
   "source": [
    "# We could even highlight the frames which received most visit counts given a certain depth"
   ]
  },
  {
   "cell_type": "code",
   "execution_count": 96,
   "metadata": {},
   "outputs": [
    {
     "data": {
      "image/png": "[encoded data removed]",
      "text/plain": [
       "<Figure size 864x720 with 1 Axes>"
      ]
     },
     "metadata": {
      "needs_background": "light"
     },
     "output_type": "display_data"
    }
   ],
   "source": [
    "plt.figure(figsize=(12,10))\n",
    "plt.hist(num_visited_children, bins = np.arange(0, num_visited_children.max()+1)+0.5, rwidth=0.8)\n",
    "plt.xlabel(\"Number of visited children\", fontsize=16)\n",
    "plt.ylabel(\"Counts\", fontsize=16)\n",
    "plt.title(\"Distribution of number of visited children\", fontsize=16)\n",
    "plt.show()"
   ]
  },
  {
   "cell_type": "code",
   "execution_count": 97,
   "metadata": {},
   "outputs": [],
   "source": [
    "def add_jitter(x, eps=0.5e-1):\n",
    "    s = x.shape\n",
    "    return x + np.random.rand(s[0])*eps"
   ]
  },
  {
   "cell_type": "code",
   "execution_count": 98,
   "metadata": {},
   "outputs": [
    {
     "data": {
      "image/png": "[encoded data removed]",
      "text/plain": [
       "<Figure size 864x720 with 1 Axes>"
      ]
     },
     "metadata": {
      "needs_background": "light"
     },
     "output_type": "display_data"
    }
   ],
   "source": [
    "plt.figure(figsize=(12,10))\n",
    "plt.scatter(add_jitter(visit_counts), add_jitter(num_visited_children), s=50, alpha=0.5, label=\"Data + jitter\")\n",
    "plt.hlines(3, visit_counts.min(), visit_counts.max(), \n",
    "           colors=\"tab:orange\", linestyles=\"dashed\", label=\"Minimum upper limit\")\n",
    "plt.hlines(5, visit_counts.min(), visit_counts.max(), \n",
    "           colors=\"tab:red\", linestyles=\"dashed\", label=\"Maximum upper limit\")\n",
    "plt.fill_between(np.arange(visit_counts.max()+1), 3, 5, alpha=0.2, color=\"turquoise\")\n",
    "plt.plot(np.arange(6)+1, np.arange(6), c=\"tab:green\", label=\"y = x - 1\")\n",
    "plt.xlabel(\"Node visit counts\", fontsize=16)\n",
    "plt.ylabel(\"Number of visited children (branching factor)\", fontsize=16)\n",
    "plt.title(\"Branching factor as a function of visit counts\", fontsize=16)\n",
    "plt.legend(fontsize=13)\n",
    "plt.show()"
   ]
  },
  {
   "cell_type": "code",
   "execution_count": 129,
   "metadata": {},
   "outputs": [
    {
     "data": {
      "image/png": "[encoded data removed]",
      "text/plain": [
       "<Figure size 864x720 with 1 Axes>"
      ]
     },
     "metadata": {
      "needs_background": "light"
     },
     "output_type": "display_data"
    }
   ],
   "source": [
    "# expected_visit=parent_visit_count*prior, visit_count\n",
    "expected_visit = parent_visit_counts*priors\n",
    "plt.figure(figsize=(12,10))\n",
    "plt.scatter(expected_visit, visit_counts)\n",
    "plt.plot(np.arange(visit_counts.max())+1, np.arange(visit_counts.max())+1, label =\"Identity line\", c=\"tab:orange\")\n",
    "plt.xlabel(\"Expected number of visits (a priori)\", fontsize=16)\n",
    "plt.ylabel(\"Actual visit count\", fontsize=16)\n",
    "plt.title(\"Effect of prior on visit count\", fontsize=16)\n",
    "plt.legend(fontsize=13)\n",
    "plt.show()"
   ]
  },
  {
   "cell_type": "code",
   "execution_count": 127,
   "metadata": {},
   "outputs": [
    {
     "data": {
      "image/png": "[encoded data removed]",
      "text/plain": [
       "<Figure size 720x576 with 2 Axes>"
      ]
     },
     "metadata": {
      "needs_background": "light"
     },
     "output_type": "display_data"
    }
   ],
   "source": [
    "# Q values vs priors -> it also depends on the depth and the discount factor\n",
    "plt.figure(figsize=(10,8))\n",
    "plt.scatter(Qvalues, priors, c=depths, cmap=\"copper\")\n",
    "clb = plt.colorbar()\n",
    "clb.set_label('Nodes depth',fontdict={\"size\":16})\n",
    "plt.xlabel(\"Q values\", fontsize=16)\n",
    "plt.ylabel(\"Assigned prior\", fontsize=16)\n",
    "plt.title(\"Correlation between Q values and policy prior\", fontsize=16)\n",
    "plt.show()"
   ]
  },
  {
   "cell_type": "code",
   "execution_count": null,
   "metadata": {},
   "outputs": [],
   "source": []
  }
 ],
 "metadata": {
  "kernelspec": {
   "display_name": "Python 3",
   "language": "python",
   "name": "python3"
  },
  "language_info": {
   "codemirror_mode": {
    "name": "ipython",
    "version": 3
   },
   "file_extension": ".py",
   "mimetype": "text/x-python",
   "name": "python",
   "nbconvert_exporter": "python",
   "pygments_lexer": "ipython3",
   "version": "3.7.7"
  }
 },
 "nbformat": 4,
 "nbformat_minor": 4
}

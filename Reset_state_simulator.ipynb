{
 "cells": [
  {
   "cell_type": "code",
   "execution_count": 1,
   "metadata": {},
   "outputs": [],
   "source": [
    "import utils\n",
    "import numpy as np\n",
    "import copy\n",
    "from rtfm import featurizer as X"
   ]
  },
  {
   "cell_type": "code",
   "execution_count": 2,
   "metadata": {},
   "outputs": [],
   "source": [
    "class TrueSimulator():\n",
    "    def __init__(self, env, featurizer=None):\n",
    "        self.env = env\n",
    "        self.action_space = len(gym_env.action_space)\n",
    "        self.featurizer = featurizer\n",
    "        \n",
    "    def reset(self):\n",
    "        frame = self.env.reset()\n",
    "        valid_moves = frame['valid'].numpy().astype(bool) # boolean mask of shape (action_space)\n",
    "        actions = np.arange(self.action_space)\n",
    "        valid_actions = actions[valid_moves]\n",
    "        return valid_actions\n",
    "    \n",
    "    def step(self, action):\n",
    "        frame, reward, done, _ = self.env.step(int(action))\n",
    "        valid_moves = frame['valid'].numpy().astype(bool) # boolean mask of shape (action_space)\n",
    "        actions = np.arange(self.action_space)\n",
    "        valid_actions = actions[valid_moves]\n",
    "        return valid_actions, reward, done\n",
    "    \n",
    "    def render(self):\n",
    "        self.featurizer.featurize(self.env)"
   ]
  },
  {
   "cell_type": "code",
   "execution_count": 3,
   "metadata": {},
   "outputs": [],
   "source": [
    "### Define parameters ###\n",
    "ucb_C = 1.0\n",
    "discount = 0.997\n",
    "episode_length = 100\n",
    "max_actions = 100\n",
    "num_simulations = 10 \n",
    "\n",
    "flags = utils.Flags()\n",
    "gym_env = utils.create_env(flags)\n",
    "#gym_env = utils.create_env(flags, featurizer=X.Concat([X.Text(), X.ValidMoves(), X.Render()]))\n",
    "featurizer = X.Render()\n",
    "game_simulator = TrueSimulator(gym_env, featurizer)"
   ]
  },
  {
   "cell_type": "code",
   "execution_count": 4,
   "metadata": {},
   "outputs": [
    {
     "name": "stdout",
     "output_type": "stream",
     "text": [
      "\r\n",
      "██████\n",
      "█?   █\n",
      "█ @  █\n",
      "█y  n█\n",
      "█ !  █\n",
      "██████\n"
     ]
    }
   ],
   "source": [
    "game_simulator.render()"
   ]
  },
  {
   "cell_type": "markdown",
   "metadata": {},
   "source": [
    "## Time profiling"
   ]
  },
  {
   "cell_type": "code",
   "execution_count": null,
   "metadata": {},
   "outputs": [],
   "source": [
    "%%time\n",
    "e = copy.deepcopy(gym_env)"
   ]
  },
  {
   "cell_type": "code",
   "execution_count": null,
   "metadata": {},
   "outputs": [],
   "source": [
    "%%time\n",
    "m = copy.deepcopy(gym_env.world.map)"
   ]
  },
  {
   "cell_type": "code",
   "execution_count": null,
   "metadata": {},
   "outputs": [],
   "source": [
    "%%time\n",
    "w = copy.deepcopy(gym_env.world)"
   ]
  },
  {
   "cell_type": "code",
   "execution_count": null,
   "metadata": {},
   "outputs": [],
   "source": [
    "%%time\n",
    "_ = gym_env.step(0)"
   ]
  },
  {
   "cell_type": "code",
   "execution_count": null,
   "metadata": {},
   "outputs": [],
   "source": [
    "%%time\n",
    "c = copy.deepcopy(gym_env.configs)"
   ]
  },
  {
   "cell_type": "code",
   "execution_count": null,
   "metadata": {},
   "outputs": [],
   "source": [
    "%%time\n",
    "_ = gym_env.reset()"
   ]
  },
  {
   "cell_type": "code",
   "execution_count": null,
   "metadata": {},
   "outputs": [],
   "source": [
    "%%time\n",
    "_ = utils.create_env(flags)"
   ]
  },
  {
   "cell_type": "markdown",
   "metadata": {},
   "source": [
    "We want to be able to store just some internal info of the simulator in order to be able to take a step and then roll back to a generic previous state.\n",
    "\n",
    "My hypothesis is that the only thing which is time consuming to create or to copy is the 'configs' attribute, which is something like a list with millions of possible configurations of monsters, attributes, items and teams. However there is no need to deepcopy it."
   ]
  },
  {
   "cell_type": "code",
   "execution_count": null,
   "metadata": {},
   "outputs": [],
   "source": [
    "#%%time\n",
    "# deepcopy everything except 'configs'\n",
    "#d = {}\n",
    "#for k in gym_env.__dict__.keys():\n",
    "#    if k != 'configs':\n",
    "#        d[k] = copy.deepcopy(gym_env.__dict__[k])"
   ]
  },
  {
   "cell_type": "code",
   "execution_count": 5,
   "metadata": {},
   "outputs": [],
   "source": [
    "d = gym_env.save_state_dict()"
   ]
  },
  {
   "cell_type": "code",
   "execution_count": 6,
   "metadata": {},
   "outputs": [
    {
     "data": {
      "text/plain": [
       "{'target_monster': Monster(cold bat, hp=20/20, dmg=106, ac=-2),\n",
       " 'target_group': 'order of the forest',\n",
       " 'distractor_monster': Monster(fire ghost, hp=20/20, dmg=106, ac=-2),\n",
       " 'distractor_item': mysterious sword(4, 3),\n",
       " 'modifier_assignment': [(rtfm.dynamics.element.Cold,\n",
       "   ('gleaming', 'grandmasters')),\n",
       "  (rtfm.dynamics.element.Fire, ('mysterious', 'soldiers')),\n",
       "  (rtfm.dynamics.element.Lightning, ('blessed', 'shimmering')),\n",
       "  (rtfm.dynamics.element.Poison, ('arcane', 'fanatical'))],\n",
       " 'group_assignment': [('order of the forest', ('bat', 'jaguar', 'zombie')),\n",
       "  ('rebel enclave', ('ghost', 'goblin', 'shaman')),\n",
       "  ('star alliance', ('imp', 'panther', 'wolf'))],\n",
       " '_cache': {},\n",
       " 'world_shape': (6, 6),\n",
       " 'world': <rtfm.dynamics.world.World at 0x7f9c82690b90>,\n",
       " 'engine': <rtfm.dynamics.engine.Engine at 0x7f9c82690dd0>,\n",
       " 'partially_observable': False,\n",
       " 'history': [],\n",
       " 'iter': 0,\n",
       " 'max_iter': 1000,\n",
       " 'max_placement': 2,\n",
       " 'max_name': 2,\n",
       " 'max_inv': 2,\n",
       " 'max_wiki': 80,\n",
       " 'max_task': 40,\n",
       " 'time_penalty': 0,\n",
       " 'shuffle_wiki': False,\n",
       " 'renderer': <rtfm.featurizer.Terminal at 0x7f9c6de78a90>,\n",
       " 'featurizer': [<rtfm.featurizer.Text at 0x7f9c6de78c10>,\n",
       "  <rtfm.featurizer.ValidMoves at 0x7f9c6de78c90>],\n",
       " 'agent': Agent(you, hp=11/11, dmg=-1, ac=-3),\n",
       " 'action_space': [rtfm.dynamics.event.Stay,\n",
       "  rtfm.dynamics.event.Up,\n",
       "  rtfm.dynamics.event.Down,\n",
       "  rtfm.dynamics.event.Left,\n",
       "  rtfm.dynamics.event.Right],\n",
       " 'observation_space': {'name': (6, 6, 2, 2),\n",
       "  'name_len': (6, 6, 2),\n",
       "  'inv': (2,),\n",
       "  'inv_len': (1,),\n",
       "  'wiki': (80,),\n",
       "  'wiki_len': (1,),\n",
       "  'task': (40,),\n",
       "  'task_len': (1,),\n",
       "  'valid': (5,)},\n",
       " 'vocab': Vocab(262),\n",
       " 'spec': EnvSpec(groups-v0)}"
      ]
     },
     "execution_count": 6,
     "metadata": {},
     "output_type": "execute_result"
    }
   ],
   "source": [
    "d"
   ]
  },
  {
   "cell_type": "code",
   "execution_count": 7,
   "metadata": {},
   "outputs": [
    {
     "name": "stdout",
     "output_type": "stream",
     "text": [
      "CPU times: user 6.53 ms, sys: 0 ns, total: 6.53 ms\n",
      "Wall time: 6.45 ms\n"
     ]
    }
   ],
   "source": [
    "%%time\n",
    "d1 = copy.deepcopy(d)"
   ]
  },
  {
   "cell_type": "code",
   "execution_count": 8,
   "metadata": {},
   "outputs": [
    {
     "data": {
      "text/plain": [
       "[]"
      ]
     },
     "execution_count": 8,
     "metadata": {},
     "output_type": "execute_result"
    }
   ],
   "source": [
    "d['agent'].queue"
   ]
  },
  {
   "cell_type": "code",
   "execution_count": 9,
   "metadata": {},
   "outputs": [
    {
     "name": "stdout",
     "output_type": "stream",
     "text": [
      "\r\n",
      "██████\n",
      "█?   █\n",
      "█ @  █\n",
      "█y  n█\n",
      "█ !  █\n",
      "██████\n"
     ]
    },
    {
     "data": {
      "text/plain": [
       "{}"
      ]
     },
     "execution_count": 9,
     "metadata": {},
     "output_type": "execute_result"
    }
   ],
   "source": [
    "featurizer.featurize(gym_env)"
   ]
  },
  {
   "cell_type": "code",
   "execution_count": 10,
   "metadata": {},
   "outputs": [],
   "source": [
    "_ = gym_env.step(0)"
   ]
  },
  {
   "cell_type": "code",
   "execution_count": 11,
   "metadata": {},
   "outputs": [],
   "source": [
    "new_gym_env = utils.create_env(flags)"
   ]
  },
  {
   "cell_type": "code",
   "execution_count": 12,
   "metadata": {},
   "outputs": [
    {
     "name": "stdout",
     "output_type": "stream",
     "text": [
      "\r\n",
      "██████\n",
      "█y   █\n",
      "█  ? █\n",
      "█ @  █\n",
      "█n  !█\n",
      "██████\n"
     ]
    },
    {
     "data": {
      "text/plain": [
       "{}"
      ]
     },
     "execution_count": 12,
     "metadata": {},
     "output_type": "execute_result"
    }
   ],
   "source": [
    "featurizer.featurize(new_gym_env)"
   ]
  },
  {
   "cell_type": "code",
   "execution_count": 13,
   "metadata": {},
   "outputs": [],
   "source": [
    "#for k in d.keys():\n",
    "#    setattr(gym_env, k, d[k])"
   ]
  },
  {
   "cell_type": "code",
   "execution_count": 14,
   "metadata": {},
   "outputs": [],
   "source": [
    "new_gym_env.load_state_dict(copy.deepcopy(d))"
   ]
  },
  {
   "cell_type": "code",
   "execution_count": 15,
   "metadata": {},
   "outputs": [
    {
     "name": "stdout",
     "output_type": "stream",
     "text": [
      "\r\n",
      "██████\n",
      "█?   █\n",
      "█ @  █\n",
      "█y  n█\n",
      "█ !  █\n",
      "██████\n"
     ]
    },
    {
     "data": {
      "text/plain": [
       "{}"
      ]
     },
     "execution_count": 15,
     "metadata": {},
     "output_type": "execute_result"
    }
   ],
   "source": [
    "featurizer.featurize(new_gym_env)"
   ]
  },
  {
   "cell_type": "code",
   "execution_count": 16,
   "metadata": {},
   "outputs": [
    {
     "data": {
      "text/plain": [
       "(2, 2)"
      ]
     },
     "execution_count": 16,
     "metadata": {},
     "output_type": "execute_result"
    }
   ],
   "source": [
    "d['agent'].position"
   ]
  },
  {
   "cell_type": "code",
   "execution_count": 17,
   "metadata": {},
   "outputs": [],
   "source": [
    "old_agent = list(new_gym_env.world.agents)[0]\n",
    "pos = old_agent.position\n",
    "new_gym_env.world.remove_object(old_agent)\n",
    "new_gym_env.agent.position = None\n",
    "new_gym_env.world.place_object_at_pos(new_gym_env.agent, pos)"
   ]
  },
  {
   "cell_type": "code",
   "execution_count": 18,
   "metadata": {},
   "outputs": [],
   "source": [
    "_ = new_gym_env.step(2)"
   ]
  },
  {
   "cell_type": "code",
   "execution_count": 19,
   "metadata": {
    "scrolled": true
   },
   "outputs": [],
   "source": [
    "f, r, done, i = _"
   ]
  },
  {
   "cell_type": "code",
   "execution_count": 20,
   "metadata": {},
   "outputs": [
    {
     "data": {
      "text/plain": [
       "-1"
      ]
     },
     "execution_count": 20,
     "metadata": {},
     "output_type": "execute_result"
    }
   ],
   "source": [
    "r"
   ]
  },
  {
   "cell_type": "code",
   "execution_count": 22,
   "metadata": {},
   "outputs": [
    {
     "data": {
      "text/plain": [
       "True"
      ]
     },
     "execution_count": 22,
     "metadata": {},
     "output_type": "execute_result"
    }
   ],
   "source": [
    "done"
   ]
  },
  {
   "cell_type": "code",
   "execution_count": 23,
   "metadata": {},
   "outputs": [],
   "source": [
    "new_gym_env.agent.position"
   ]
  },
  {
   "cell_type": "code",
   "execution_count": 24,
   "metadata": {},
   "outputs": [
    {
     "data": {
      "text/plain": [
       "(2, 2)"
      ]
     },
     "execution_count": 24,
     "metadata": {},
     "output_type": "execute_result"
    }
   ],
   "source": [
    "d['agent'].position"
   ]
  },
  {
   "cell_type": "code",
   "execution_count": null,
   "metadata": {},
   "outputs": [],
   "source": [
    "gym_env.world"
   ]
  },
  {
   "cell_type": "code",
   "execution_count": null,
   "metadata": {},
   "outputs": [],
   "source": [
    "new_gym_env.world"
   ]
  },
  {
   "cell_type": "code",
   "execution_count": 19,
   "metadata": {},
   "outputs": [
    {
     "ename": "Exception",
     "evalue": "2",
     "output_type": "error",
     "traceback": [
      "\u001b[0;31m---------------------------------------------------------------------------\u001b[0m",
      "\u001b[0;31mException\u001b[0m                                 Traceback (most recent call last)",
      "\u001b[0;32m<ipython-input-19-9b118936db8c>\u001b[0m in \u001b[0;36m<module>\u001b[0;34m\u001b[0m\n\u001b[1;32m      2\u001b[0m     \u001b[0;32mpass\u001b[0m\u001b[0;34m\u001b[0m\u001b[0;34m\u001b[0m\u001b[0m\n\u001b[1;32m      3\u001b[0m \u001b[0;32melse\u001b[0m\u001b[0;34m:\u001b[0m\u001b[0;34m\u001b[0m\u001b[0;34m\u001b[0m\u001b[0m\n\u001b[0;32m----> 4\u001b[0;31m     \u001b[0;32mraise\u001b[0m \u001b[0mException\u001b[0m\u001b[0;34m(\u001b[0m\u001b[0;34m\"{}\"\u001b[0m\u001b[0;34m.\u001b[0m\u001b[0mformat\u001b[0m\u001b[0;34m(\u001b[0m\u001b[0;36m2\u001b[0m\u001b[0;34m)\u001b[0m\u001b[0;34m)\u001b[0m\u001b[0;34m\u001b[0m\u001b[0;34m\u001b[0m\u001b[0m\n\u001b[0m",
      "\u001b[0;31mException\u001b[0m: 2"
     ]
    }
   ],
   "source": [
    "if False:\n",
    "    pass\n",
    "else:\n",
    "    raise Exception(\"{}\".format(2))"
   ]
  },
  {
   "cell_type": "code",
   "execution_count": null,
   "metadata": {},
   "outputs": [],
   "source": []
  }
 ],
 "metadata": {
  "kernelspec": {
   "display_name": "Python 3",
   "language": "python",
   "name": "python3"
  },
  "language_info": {
   "codemirror_mode": {
    "name": "ipython",
    "version": 3
   },
   "file_extension": ".py",
   "mimetype": "text/x-python",
   "name": "python",
   "nbconvert_exporter": "python",
   "pygments_lexer": "ipython3",
   "version": "3.7.7"
  }
 },
 "nbformat": 4,
 "nbformat_minor": 4
}
